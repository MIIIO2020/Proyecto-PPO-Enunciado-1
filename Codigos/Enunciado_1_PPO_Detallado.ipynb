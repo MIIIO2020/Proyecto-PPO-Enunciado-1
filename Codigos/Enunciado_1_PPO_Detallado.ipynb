{
 "cells": [
  {
   "cell_type": "markdown",
   "metadata": {},
   "source": [
    "# Programación dinámica probabilísticos de horizontes infinito\n",
    "\n",
    "## Ejemplo:\n",
    "Juan vende cervezas artesanales de Lunes a Viernes.\n",
    "- $c:=$Las compra por\\$300 cada una.\n",
    "- $k:=$ Costo de hacer un pedido =\\$100\n",
    "- $v:=$Las vende por\\$1.500 cada una.\n",
    "- $h:= $ Costo de almacenamiento=\\$200\n",
    "- La demanda es uniforme de $a$ a $b$\n",
    "    - a=0\n",
    "    - b=3\n",
    "- $S:=$La capacidad maxima de inventario = 4 \n",
    "\n",
    "    - Tomar en cuenta que esta es una restricción que define el horizonte de decisiones para la cantidad de inventario $d$ a comprar, según el estado $i$ de inventario.\n",
    "    $0\\leq d \\leq S-i $\n",
    "\n",
    "- Venta perdida por producto $= v−c$\n",
    "\n",
    "\n",
    "## ¿Ayude a decidir a Juan cuánto comprar, según el inventario $i$ que tenga al comienzo de cada periodo?"
   ]
  },
  {
   "cell_type": "code",
   "execution_count": 1,
   "metadata": {},
   "outputs": [],
   "source": [
    "import numpy as np\n",
    "from numpy import random\n",
    "import collections\n",
    "import time"
   ]
  },
  {
   "cell_type": "code",
   "execution_count": 2,
   "metadata": {},
   "outputs": [],
   "source": [
    "# Información problema\n",
    "c = 300   #Precio compra cerveza\n",
    "k = 1000  #Costo hacer pedido\n",
    "v = 1500  #Precio Venta cerveza\n",
    "h = 200   #Costo de almacenamiento Cerveza\n",
    "a = 0     #Demanda minima\n",
    "b = 3  #Demanda maxima\n",
    "S = 4   #Capacidad maxima inventario\n",
    "tasa=1    #(opcional) -> Simplifica el problema\n",
    "prob_uniforme = (1)/(b-a+1)    #Probabilidad de la demanda(Discreta)"
   ]
  },
  {
   "cell_type": "markdown",
   "metadata": {},
   "source": [
    "Como se conoce la distribución de la demanda y esta tiene un comportamiento discreto, cada escenario de demanda posee la siguiente probabilidad de ocurrencia.\n",
    "\n",
    "\\begin{equation*}\n",
    "P_{demanda}=\n",
    "\\dfrac{1}{b-a+1}\n",
    "\\end{equation*}"
   ]
  },
  {
   "cell_type": "markdown",
   "metadata": {},
   "source": [
    "### Matriz de probabilidades\n",
    "En el la teoría las probabilidades estan representadas de la siguiente forma:\n",
    "\n",
    "\\begin{equation*}\n",
    "P(j|i,d)\n",
    "\\end{equation*}\n",
    "\n",
    "$j$ el estado(nivel de inventario) siguiente, dada el estado(nivel de inventario) inicial $i$ y la decisión $d$ (cantidad de inventario a comprar) tomada. \n",
    "\n",
    "Debido a que los resultados del problema se basan principalmente en el nivel de inventario y la desiciones son basicamente a que nivel de inventario superior moverse, la estructura en código de este problema se aprovecha de esta particularidad. \n",
    "\n",
    "La matriz de probabilidades se estructura de la siguiente forma\n",
    "\n",
    "`Prob[i][j]`:= Es la probalidad de que el inventario i pase al nivel de inventario j en el siguente periodo, dado que no se realizo ninguna compra (d=0)\n",
    "\n",
    "Notar que si se realiza alguna compra $d$ el paso para obtener $P(j|i,d)$ es simplemente  \n",
    "       \n",
    "   $P(j|i,d)= $    `Prob[ i+d ][ j ]`"
   ]
  },
  {
   "cell_type": "code",
   "execution_count": 3,
   "metadata": {},
   "outputs": [],
   "source": [
    "prob = np.zeros([S+1,S+1])  #Creamos Matriz de ceros\n",
    "for i in range(S+1):        #Posibles estados iniciales\n",
    "    for j in range(i,-1,-1):    #Estados de destino\n",
    "        if sum(prob[i])<1:\n",
    "            prob[i,j] = prob_uniforme\n",
    "    prob[i,0] = 1 - sum(prob[i,1:])"
   ]
  },
  {
   "cell_type": "code",
   "execution_count": 4,
   "metadata": {
    "scrolled": true
   },
   "outputs": [
    {
     "name": "stdout",
     "output_type": "stream",
     "text": [
      "      ---Matriz de Probabilidades---\n",
      "[[1.   0.   0.   0.   0.  ]\n",
      " [0.75 0.25 0.   0.   0.  ]\n",
      " [0.5  0.25 0.25 0.   0.  ]\n",
      " [0.25 0.25 0.25 0.25 0.  ]\n",
      " [0.   0.25 0.25 0.25 0.25]]\n"
     ]
    }
   ],
   "source": [
    "print(\"      ---Matriz de Probabilidades---\")\n",
    "print(prob)"
   ]
  },
  {
   "cell_type": "markdown",
   "metadata": {},
   "source": [
    "Notar que basicamente las probabilidades planteadas, son en base a como disminuye el nivel de inventario segun la demanda que tiene. Es por ello que cuando se posee una demanda superior al nivel de inventario su probabilidad se acumula en $j=0$ "
   ]
  },
  {
   "cell_type": "markdown",
   "metadata": {},
   "source": [
    "\n",
    "## Expected Reward\n",
    "\n",
    "\n",
    "Tomando en cuenta la particularidad, mencionada anteriormente, el reward solo contemplará la decisión de no comprar nada de inventario ($d=0$). Por tanto es la utiliad esperada, segun el nivel de inventario $i$ y en las ecuaciones siguientes se agregarán los costos asociados a la compra $d$. \n",
    "\n",
    "Es por ello que para almacenar el expected reward, se utilizará al siguiente estructura:\n",
    "    \n",
    "`reward[i]` := el expected reward ante un nivel de inventario $i$, al no realizar una compra $(d=0)$.\n",
    "    \n",
    "    \n",
    "`reward[ i ]` = \n",
    "\\begin{align*}\n",
    "\\sum_{Dem=a}^b P_{Dem}\\cdot( &\\\\ &\n",
    "v\\cdot\\min\\{Dem,i\\} \\\\&\n",
    "-(v-c)\\cdot\\max\\{Dem-i,0\\}\\\\& \n",
    "-(h)\\cdot\\max\\{i-Dem,0\\} )\n",
    "\\end{align*}\n",
    "\n",
    "\n",
    "Entonces para calcular el Expected Reward teórico $r_{i,d}$ se realizará de la siguiente forma, dentro de las funciones siguientes.\n",
    "\n",
    "$r_{i,d}=$ `reward[i+d]`  $-c\\cdot d $  $-k\\cdot\\min\\{d,0\\} $\n"
   ]
  },
  {
   "cell_type": "code",
   "execution_count": 5,
   "metadata": {},
   "outputs": [],
   "source": [
    "def reward_esperado(prob_dist,S,d_minima,d_maxima,V,H,C):\n",
    "    reward=np.zeros(S+1)    #Creamos vector de beneficios de t\n",
    "    for i in range(S+1):    #Recorremos todos los posibles inventarios\n",
    "        r=0                 #Iniciamos en cero para cada nivel de inventario\n",
    "        for dem in range(d_minima,d_maxima+1):#Recorremos todos las demandas posibles\n",
    "            p_d = prob_dist # Probabilidad demanda \n",
    "            r_dem = V*min(dem,i)  # Vendemos el minimo entre lo que se tiene y la demanda\n",
    "            if(dem>=i): #Si llega más demanda de la que se puede cubrir\n",
    "                r_dem -= (V-C)*(dem-i) #Costo oportunidad\n",
    "            else:       #Queda inventario para el periodo siguiente\n",
    "                r_dem -= (H)*(i-dem)   #Costo de almacenar \n",
    "            r+= p_d*(r_dem)            \n",
    "            #Suma de todos los beneficios por la probabilidad de la demanda de un nivel de inventario i\n",
    "        reward[i]=r #Beneficio esperado nivel de inventario i\n",
    "    return reward"
   ]
  },
  {
   "cell_type": "markdown",
   "metadata": {},
   "source": [
    "## Value Determination Equations\n",
    "\n",
    "\\begin{equation}\n",
    "    g+V_{\\delta}(i) = r_{i,\\delta(i)} +  \\sum_{j=0}^{S} p(j|i,\\delta(i))V_{\\delta}(j)\n",
    "\\end{equation}\n",
    "\n",
    "Como ya fue explicado antes, el $r_{i,\\delta(i)}$ (o $\\sim r_{i,d})$ se debe calcular en esta parte del código, para aprovecharse de la estructura. Además del $p(j|i,\\delta(i))$ (o $\\sim p(j|i,d) $).\n",
    "\n",
    "Basicamente la función a continuación uno le entrega un vector de decisiones $D$ o `decisions` cual en cada valor $d_i$ (`decisions[i]`)refleja la cantidad de cervezas a comprar dado el nivel de inventario $i$\n",
    "\n",
    "Para solucionar el sistema de ecuaciones, las ecuaciones deben plantearse de forma matricial, donde se posee una matriz $A_{S+2\\times S+2}$ con las variables ($g$ ; $V_{\\delta}(i), \\forall i \\in \\{0,\\dots S\\} $) y una matriz con el valor constante $B_{S+2\\times1}$. Donde cada fila $i$, salvo la ultima, posee la siguiente ecuación .\n",
    "\n",
    "\\begin{equation*}\n",
    "A_i=g + V_{\\delta}(i) -  \\sum_{j=0}^{S} p(j|i,\\delta(i))V_{\\delta}(j)\n",
    "\\end{equation*}\n",
    "\n",
    "\\begin{equation*}\n",
    "B_i= r_{i,\\delta(i)} \n",
    "\\end{equation*}\n",
    "\n",
    "La ultima fila de $A$, debido al problema es $A_{S+2,}=V_{\\delta}(S)$ y la ultima fila de $B$ es igual a 0. De esta forma, se puede solucionar el sistema de ecuaciones.\n",
    "\n",
    "\n",
    "\n"
   ]
  },
  {
   "cell_type": "code",
   "execution_count": 6,
   "metadata": {},
   "outputs": [],
   "source": [
    "#funcion para obtener el valor de la ecuaciones\n",
    "#No quitamos los print por si quieren hacerlo con menos casos y observar los calculos\n",
    "def Value_Determination_Equations(decisions,prob,descuento,costo,revenues,S,K):\n",
    "    L=len(decisions)\n",
    "    aux=np.zeros([L,L]) #Creamos Matriz combinación de desiciones\n",
    "    B=np.zeros(L)       #Creamos Lado derecho del sistema de ecuaciones\n",
    "    for i in range(L):  #Recorremos todas las decisiones\n",
    "        cant_comprada_i=decisions[i] #Almacenamos cuanto fue la decision\n",
    "        if cant_comprada_i>0: #Verificamos si decidio comprar\n",
    "        #Juan decide comprar mas cerveza.\n",
    "            if(cant_comprada_i+i<=S):\n",
    "            # La compra más el inventario debe ser menor a Cap max\n",
    "                B[i] =  revenues[cant_comprada_i+i]#beneficio del nuevo nivel de inventario\n",
    "                B[i] -= costo*(cant_comprada_i)    #Costo de cant cervezas compradas\n",
    "                B[i] -= K                          #Costo de hacer el pedido\n",
    "                aux[i]=prob[cant_comprada_i+i]     #Actualizamos probabilidades del nuevo nivel de inventario\n",
    "            else:#Castigamos en exceso comprar más de S\n",
    "                B[i]+=-costo*(cant_comprada_i)*10000\n",
    "                aux[i]=prob[i]                \n",
    "        else: #No compró\n",
    "            aux[i]=prob[i]   #Probabilidades de mantienen en el nivel de inventario i\n",
    "            B[i]=revenues[i] #Beneficio esperado de nivel de inventario i\n",
    "    aux = np.insert(aux, aux.shape[1], np.zeros(L), 1)  #agregamos columna de ceros\n",
    "    a = np.identity(L) #creamos una identidad\n",
    "    a = np.insert(a, a.shape[1], np.ones(L), 1) #le agregamos una columna llena de unos (constante)\n",
    "    #print(\"a->\",a)    \n",
    "    #print(\"aux->\",aux)\n",
    "    A = a-(descuento*aux) #despejamos la ecuacuacion\n",
    "    A = np.insert(A, A.shape[0], np.zeros(L+1), 0)#agregamos una fila de ceros\n",
    "    A[L,L-1] = 1 #a la fila recien agregada asignamos un uno a la ultima variable que no es la constante\n",
    "    #print(\"A->\",A)\n",
    "    B = np.append(B, 0) #seteamos a 0 la ultima variable\n",
    "    #print(\"B->\",B)\n",
    "    X = np.linalg.solve(A,B) #resuelve el sistema\n",
    "    #print(\"X->\",X)\n",
    "    g = X[L]   #Guardamos la constante\n",
    "    X = X[:-1] #Quitamos la constante \n",
    "    #print(\"X sin g ->\",X)\n",
    "    return [X,g] #Retornamos las variables y la constante\n",
    "    "
   ]
  },
  {
   "cell_type": "markdown",
   "metadata": {},
   "source": [
    "Ya solucionado el sistema de ecuaciones el código, la función nos entrega un arreglo con el vector `X`( el cual mantiene la estructura de `decisions`)que posee los valores de todos los $V_{\\delta}(i)$ y el valor de la constante $g$"
   ]
  },
  {
   "cell_type": "markdown",
   "metadata": {},
   "source": [
    "# Howard’s Policy Iteration Method\n",
    "\n",
    "Este es el metodo de iteración en las politicas, el cual consite en validar las decisiones introducidas, en la parte de _Value Determination Equations_ la función a continuación `T_delta` basicamente tomará las mejores decisiones dado los valores(`values` o `X`) calculados en la función `Value_Determination_Equations`\n",
    "\n",
    "\n",
    "\\begin{equation}\n",
    "    T_{\\delta}(i) = \\max_{d\\in D(i)} \\left ( r_{i,\\delta(i)} + \\sum_{j=1}^{j=N} p(j|i,d)V_{\\delta}(j)  \\right)\n",
    "\\end{equation}\n"
   ]
  },
  {
   "cell_type": "code",
   "execution_count": 7,
   "metadata": {},
   "outputs": [],
   "source": [
    "def T_delta(prob,values,descuento,costo,revenues,g,K):\n",
    "    L=len(values)\n",
    "    T=np.zeros(L)#Vector de ceros de los T\n",
    "    decisiones=np.zeros(L) #Vector de ceros de las decisiones\n",
    "    for i in range(L):     #Todos los niveles de inventario\n",
    "        lista=[]           #Lista vacia para los T segun nivel de inventario\n",
    "        lista_2=[]         #Lista vacia para las decisiones \n",
    "        for j in range(i,L): #Desde nivel de inventario hasta llenar la bodega\n",
    "            aux=revenues[j]-g+(descuento*sum(prob[j]*values))\n",
    "            if i!=j:\n",
    "                aux-=K+costo*(j-i)\n",
    "            lista.append(aux) # T_delta\n",
    "            lista_2.append(j-i) #Cuanto se compró\n",
    "        T[i]=max(lista)#Cual es el maximo de los T_delta\n",
    "        indice=lista.index(T[i])#posicion donde está ese maximo\n",
    "        decisiones[i]=lista_2[indice] #almacenamos cual era la mejor decision\n",
    "    return [T,decisiones] #Retornamos T_delta_i y las decisiones"
   ]
  },
  {
   "cell_type": "markdown",
   "metadata": {},
   "source": [
    "Se aprecia que la función `T_delta` retorna el siguiente arreglo `[T,decisiones]` Donde `T` es un vector con los valores $T_{\\delta}(i)$ al elegir las mejores desiciones $d$ para cada nivel de inventario,\n",
    "estas desiciones estan almacenadas en el vector `decisiones` el cual sigue la misma estructura mencionada anteriormente, el indice del vector indica el nivel de inventario inicial $i$."
   ]
  },
  {
   "cell_type": "markdown",
   "metadata": {},
   "source": [
    "## Proceso iterativo\n",
    "\n",
    "En el proceso de busqueda iterativa se le entrega una semilla de decisiones, las cuales va mejorando iteración a iteración. En este proceso se requiere pasar por `Value_Determination_Equations` y por la función `T_delta` en donde se comparan los valores obtenidos por ambas funciónes, así como lo plantea la teoría. \n",
    "\n",
    "En el caso donde $V_{\\delta}(i)\\neq  T_{\\delta}(i) $ (`V_D_E[i] != Los_T[i]` ) se decide reemplazar la decisión tomada en la parte de `Value_Determination_Equations` (`decisions`) por la elegida en `T_delta`(`D_T`) \n",
    "\n",
    "Es decir si $\\delta(i)$ es la politica tomada inicialmente y $\\delta(i)'$ es la politica tomada por  `T_delta`, sea $V_{\\delta}(i)\\neq  T_{\\delta'}(i) $ se debe volver a realizar el sistema de ecuaciones con la función `Value_Determination_Equations` pero ahora entregandole las politicas elegidas por `T_delta`. Ya que en teória si $V_{\\delta}(i)\\neq  T_{\\delta'}(i) $ entonces $\\delta(i)\\neq  \\delta'(i) $, en el caso contrario si  $V_{\\delta}(i) =  T_{\\delta'}(i) $ entonces $\\delta(i)= \\delta'(i) $.\n",
    "\n",
    "Para realizar este proceso iterativo, se estructuraron dos planteamientos\n",
    "\n",
    " 1. Función de recursión:\n",
    "     1. Calcula los $V_{\\delta}(i)$\n",
    "     2. Según los $V_{\\delta}(i)$ calcula los $T_{\\delta'}(i)$ y retiene las politicas elegidas por la función.\n",
    "     3. Si Existe $V_{\\delta}(i)\\neq  T_{\\delta'}(i) $ para algún $i$. Vuelve a llamar a la función con los decisiones tomadas por  $T_{\\delta'}(i)$ cuandó se cumplio la desigualdad. En el caso que no se cumpla la condición se finaliza la iteración y entrega el vector de las ultimas decisiones.  \n",
    "     \n",
    " 2. Función de while:\n",
    "     1. Calcula los $V_{\\delta}(i)$\n",
    "     2. Según los $V_{\\delta}(i)$ calcula los $T_{\\delta'}(i)$ y retiene las politicas elegidas por la función.\n",
    "     3. Si Existe $V_{\\delta}(i)\\neq  T_{\\delta'}(i) $ para algún $i$. Realiza el cambio de decisiones tomadas por  $T_{\\delta'}(i)$ en donde se cumpla la desigualdad, la estructura del `while` implica que ahora pasa al paso A con este nuevo vector de decisiones. En el caso que no se cumpla la condición se finaliza la iteración y entrega las ultimas decisiones alcanzadas.  \n",
    "\n",
    "Se plantean estas dos estructuas, para comparar el desempeño de ambas funciones, según la dimensión de escenarios. \n",
    "     \n",
    "     "
   ]
  },
  {
   "cell_type": "code",
   "execution_count": 8,
   "metadata": {},
   "outputs": [],
   "source": [
    "def Search_OP(decisions,prob,descuento,costo,revenues,S,K,contador):\n",
    "    print(\"\\n\")\n",
    "    print(\"Comenzamos iteración\",contador)\n",
    "    print(\"Con las siguientes decisiones:\")\n",
    "    print(decisions)\n",
    "    print(\"\\n\")\n",
    "    \n",
    "    V_D_E, G = Value_Determination_Equations(decisions,prob,descuento,costo,revenues,S,K)\n",
    "    print(\"Con las decisiones resolvemos el sistema de ecuaciones y obtenemos los siguientes valores(V_D_E):\")\n",
    "    print(V_D_E)\n",
    "    print(\"\\n\")\n",
    "    #Almacenamos los V y la constante para una decision\n",
    "    \n",
    "    Los_T, D_T = T_delta(prob,V_D_E,descuento,costo,revenues,G,K)\n",
    "    print(\"Con los valores calculamos Los T_delta:\")\n",
    "    print(Los_T)\n",
    "    print(\"\\n\")\n",
    "    print(\"Lo que equivale a las siguientes decisiones:\")\n",
    "    print(D_T)\n",
    "    print(\"\\n\")\n",
    "    #Almacenamos los T_deltas_i y las decisiones para cada nivel de inventario\n",
    "    \n",
    "    val_Op=np.around(Los_T,4)==np.around(V_D_E,4) \n",
    "    #Verificamos si los T_delta_i son iguales a los V_i\n",
    "    print(\"Igualamos los V_D_E con T_delta, y obtenemos el siguiente vector:\")\n",
    "    print(val_Op)\n",
    "    print(\"\\n\")\n",
    "    if(sum(val_Op)==len(val_Op)):\n",
    "    #si todos eran iguales\n",
    "        return(decisions)        \n",
    "        #retornamos las decisiones\n",
    "        \n",
    "    else:                         \n",
    "    #si no son todos iguales\n",
    "    \n",
    "        for i in range(S+1): #recorremos las decisiones\n",
    "            if (val_Op[i]!=True):#Si una una comparacion t_delta_i vs V_i no coincidió\n",
    "                decisions[i]=D_T[i].astype('int') #asignamos la nueva decision\n",
    "        print(\"\\n\")\n",
    "        print(\"_\"*80)\n",
    "        \n",
    "        return(Search_OP(decisions,prob,descuento,costo,revenues,S,K,contador+1))\n",
    "    \n",
    "        #volvemos a llamar la misma funcion pero con las nuevas decisiones\n",
    "    "
   ]
  },
  {
   "cell_type": "markdown",
   "metadata": {},
   "source": [
    "## Ejecución del codido\n",
    "\n",
    "Se define las decisiones semilla como un vector cero `D`, es decir que las decisiones para todos los niveles de inventario es no realizar compra de más producto. \n",
    "Además se crea el vector `expectet_reward` por medio de una función,  el cual según lo explicado anteriormente representa la utilidad esperada en cada nivel de inventario dado que no se realizo ninguna compra de inventario.\n",
    "\n",
    "Posteriormente, se inicia un cronometro junto con el llamado a la función  `Search_OP` . Al finalizar la función entrega el vector con las decisiones optimas y se imprime el tiempo empleado en la busqueda iterativa.\n"
   ]
  },
  {
   "cell_type": "code",
   "execution_count": 10,
   "metadata": {
    "scrolled": true
   },
   "outputs": [
    {
     "name": "stdout",
     "output_type": "stream",
     "text": [
      "      ---Matriz de Probabilidades---\n",
      "[[1.   0.   0.   0.   0.  ]\n",
      " [0.75 0.25 0.   0.   0.  ]\n",
      " [0.5  0.25 0.25 0.   0.  ]\n",
      " [0.25 0.25 0.25 0.25 0.  ]\n",
      " [0.   0.25 0.25 0.25 0.25]]\n",
      "\n",
      "\n",
      "--- Vector de beneficios esperados por inventario---\n",
      "[-1800.   175.  1425.  1950.  1750.]\n",
      "\n",
      "\n",
      "Comenzamos iteración 1\n",
      "Con las siguientes decisiones:\n",
      "[0 0 0 0 0]\n",
      "\n",
      "\n",
      "Con las decisiones resolvemos el sistema de ecuaciones y obtenemos los siguientes valores(V_D_E):\n",
      "[-9871.60493827 -7238.27160494 -4693.82716049 -2267.90123457\n",
      "     0.        ]\n",
      "\n",
      "\n",
      "Con los valores calculamos Los T_delta:\n",
      "[-2200. -1900. -1600. -1300.     0.]\n",
      "\n",
      "\n",
      "Lo que equivale a las siguientes decisiones:\n",
      "[4. 3. 2. 1. 0.]\n",
      "\n",
      "\n",
      "Igualamos los V_D_E con T_delta, y obtenemos el siguiente vector:\n",
      "[False False False False  True]\n",
      "\n",
      "\n",
      "\n",
      "\n",
      "________________________________________________________________________________\n",
      "\n",
      "\n",
      "Comenzamos iteración 2\n",
      "Con las siguientes decisiones:\n",
      "[4 3 2 1 0]\n",
      "\n",
      "\n",
      "Con las decisiones resolvemos el sistema de ecuaciones y obtenemos los siguientes valores(V_D_E):\n",
      "[-2200. -1900. -1600. -1300.     0.]\n",
      "\n",
      "\n",
      "Con los valores calculamos Los T_delta:\n",
      "[-2200. -1900. -1100.  -350.     0.]\n",
      "\n",
      "\n",
      "Lo que equivale a las siguientes decisiones:\n",
      "[4. 3. 0. 0. 0.]\n",
      "\n",
      "\n",
      "Igualamos los V_D_E con T_delta, y obtenemos el siguiente vector:\n",
      "[ True  True False False  True]\n",
      "\n",
      "\n",
      "\n",
      "\n",
      "________________________________________________________________________________\n",
      "\n",
      "\n",
      "Comenzamos iteración 3\n",
      "Con las siguientes decisiones:\n",
      "[4 3 0 0 0]\n",
      "\n",
      "\n",
      "Con las decisiones resolvemos el sistema de ecuaciones y obtenemos los siguientes valores(V_D_E):\n",
      "[-2200.  -1900.  -1337.5  -350.      0. ]\n",
      "\n",
      "\n",
      "Con los valores calculamos Los T_delta:\n",
      "[-2200.  -1900.  -1337.5  -350.      0. ]\n",
      "\n",
      "\n",
      "Lo que equivale a las siguientes decisiones:\n",
      "[4. 3. 0. 0. 0.]\n",
      "\n",
      "\n",
      "Igualamos los V_D_E con T_delta, y obtenemos el siguiente vector:\n",
      "[ True  True  True  True  True]\n",
      "\n",
      "\n",
      "Recursión--- 0.0214540958404541 Segundos ---\n"
     ]
    },
    {
     "data": {
      "text/plain": [
       "array([4, 3, 0, 0, 0])"
      ]
     },
     "execution_count": 10,
     "metadata": {},
     "output_type": "execute_result"
    }
   ],
   "source": [
    "D=np.zeros(S+1).astype('int')\n",
    "expectet_reward= reward_esperado(prob_uniforme,S,a,b,v,h,c)\n",
    "print(\"      ---Matriz de Probabilidades---\")\n",
    "print(prob)\n",
    "print(\"\\n\")\n",
    "print(\"--- Vector de beneficios esperados por inventario---\")\n",
    "print(expectet_reward)\n",
    "start_time = time.time()\n",
    "Optimo_recursion=Search_OP(D,prob,tasa,c,expectet_reward,S,k,1)\n",
    "segs_recur=time.time() - start_time\n",
    "print(\"Recursión--- %s Segundos ---\" % (segs_recur))\n",
    "Optimo_recursion"
   ]
  },
  {
   "cell_type": "markdown",
   "metadata": {},
   "source": [
    "# Análisis de resultados\n",
    "\n",
    "Se aprecia que la función recursiva entregó el siguiente vector de decisiones `array([4, 3, 0, 0, 0])`.\n",
    "\n",
    "Este vector responde a la pregunta\n",
    "\n",
    "__¿Cuánto comprar según el inventario $i$ que tenga al comienzo de cada periodo?__\n",
    "\n",
    "* Si se tiene 0 cervezas al iniciar el día lunes, juan deve comprar 4 cervezas.\n",
    "* Si se tiene 1 cerveza al iniciar el día lunes, juan deve comprar 3 cervezas.\n",
    "* Para el resto de los niveles de inventario, juan no debe comprar.\n"
   ]
  }
 ],
 "metadata": {
  "kernelspec": {
   "display_name": "Python 3",
   "language": "python",
   "name": "python3"
  },
  "language_info": {
   "codemirror_mode": {
    "name": "ipython",
    "version": 3
   },
   "file_extension": ".py",
   "mimetype": "text/x-python",
   "name": "python",
   "nbconvert_exporter": "python",
   "pygments_lexer": "ipython3",
   "version": "3.7.7"
  }
 },
 "nbformat": 4,
 "nbformat_minor": 2
}
